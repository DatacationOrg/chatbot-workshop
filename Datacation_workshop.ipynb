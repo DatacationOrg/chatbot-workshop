{
  "nbformat": 4,
  "nbformat_minor": 0,
  "metadata": {
    "colab": {
      "provenance": [],
      "include_colab_link": true
    },
    "kernelspec": {
      "name": "python3",
      "display_name": "Python 3"
    },
    "language_info": {
      "name": "python"
    }
  },
  "cells": [
    {
      "cell_type": "markdown",
      "metadata": {
        "id": "view-in-github",
        "colab_type": "text"
      },
      "source": [
        "<a href=\"https://colab.research.google.com/github/DatacationOrg/chatbot-workshop/blob/main/Datacation_workshop.ipynb\" target=\"_parent\"><img src=\"https://colab.research.google.com/assets/colab-badge.svg\" alt=\"Open In Colab\"/></a>"
      ]
    },
    {
      "cell_type": "code",
      "execution_count": null,
      "metadata": {
        "id": "Z-MdmDj3gFwq"
      },
      "outputs": [],
      "source": [
        "%%writefile requirements.txt\n",
        "chainlit==2.2.1\n",
        "langchain==0.3.19\n",
        "langchain-community==0.3.18\n",
        "langchain-google-genai==2.0.11"
      ]
    },
    {
      "cell_type": "code",
      "source": [
        "!pip install -r requirements.txt"
      ],
      "metadata": {
        "collapsed": true,
        "id": "EAuE8kpdgdZd"
      },
      "execution_count": null,
      "outputs": []
    },
    {
      "cell_type": "code",
      "source": [
        "!npm install -g localtunnel"
      ],
      "metadata": {
        "id": "dYPgmX33g4OA"
      },
      "execution_count": null,
      "outputs": []
    },
    {
      "cell_type": "code",
      "source": [
        "%%writefile app.py\n",
        "import os\n",
        "\n",
        "import chainlit as cl\n",
        "from langchain_google_genai import ChatGoogleGenerativeAI\n",
        "\n",
        "llm = ChatGoogleGenerativeAI(model=\"gemini-2.0-flash-exp\")\n",
        "\n",
        "\n",
        "@cl.on_message\n",
        "async def on_message(message: cl.Message):\n",
        "    msg = cl.Message(content=\"\")\n",
        "    async for chunk in llm.astream(\n",
        "        message.content, config=dict(callbacks=[cl.LangchainCallbackHandler()])\n",
        "    ):\n",
        "        await msg.stream_token(chunk.content)\n",
        "    await msg.send()\n"
      ],
      "metadata": {
        "id": "IhXBvMrhgqH1"
      },
      "execution_count": null,
      "outputs": []
    },
    {
      "cell_type": "code",
      "source": [
        "import os\n",
        "import subprocess\n",
        "\n",
        "from google.colab import userdata\n",
        "\n",
        "chainlit_process = None\n",
        "if chainlit_process:\n",
        "    chainlit_process.kill()\n",
        "tunnel_process = None\n",
        "if tunnel_process:\n",
        "    tunnel_process.kill()\n",
        "chainlit_out = open(\"chainlit_output.log\", \"wb\")\n",
        "chainlit_env = os.environ.copy()\n",
        "chainlit_env[\"GOOGLE_API_KEY\"] = userdata.get(\"GOOGLE_API_KEY\")\n",
        "chainlit_process = subprocess.Popen(\n",
        "    [\"chainlit\", \"run\", \"app.py\", \"--host\", \"0.0.0.0\", \"--port\", \"8000\"],\n",
        "    stdout=chainlit_out,\n",
        "    stderr=subprocess.STDOUT,\n",
        "    env=dict(os.environ, GOOGLE_API_KEY=userdata.get(\"GOOGLE_API_KEY\")),\n",
        ")\n",
        "output_file = \"output.log\"\n",
        "out_log = open(output_file, \"wb\")\n",
        "tunnel_process = subprocess.Popen(\n",
        "    [\"lt\", \"--port\", \"8000\"], stdout=out_log, stderr=subprocess.STDOUT\n",
        ")\n",
        "!sleep 5s # Allow for some time to properly boot"
      ],
      "metadata": {
        "id": "qKzR0dFRg_tZ"
      },
      "execution_count": null,
      "outputs": []
    },
    {
      "cell_type": "code",
      "source": [
        "assert chainlit_process.poll() is None\n",
        "assert tunnel_process.poll() is None\n",
        "!cat $output_file\n",
        "!echo \"Tunnel Password: $(curl -s https://loca.lt/mytunnelpassword)\""
      ],
      "metadata": {
        "id": "Fpu71gjBkcHm"
      },
      "execution_count": null,
      "outputs": []
    }
  ]
}