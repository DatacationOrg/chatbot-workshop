{
  "nbformat": 4,
  "nbformat_minor": 0,
  "metadata": {
    "colab": {
      "provenance": [],
      "authorship_tag": "ABX9TyMO6MqXxBkY8BZBb3KwWRus",
      "include_colab_link": true
    },
    "kernelspec": {
      "name": "python3",
      "display_name": "Python 3"
    },
    "language_info": {
      "name": "python"
    }
  },
  "cells": [
    {
      "cell_type": "markdown",
      "metadata": {
        "id": "view-in-github",
        "colab_type": "text"
      },
      "source": [
        "<a href=\"https://colab.research.google.com/github/DatacationOrg/chatbot-workshop/blob/main/Datacation_workshop.ipynb\" target=\"_parent\"><img src=\"https://colab.research.google.com/assets/colab-badge.svg\" alt=\"Open In Colab\"/></a>"
      ]
    },
    {
      "cell_type": "code",
      "execution_count": 1,
      "metadata": {
        "colab": {
          "base_uri": "https://localhost:8080/"
        },
        "id": "Z-MdmDj3gFwq",
        "outputId": "4dfd5ce4-6ba6-4d12-e6fc-8ad39d0e53ba"
      },
      "outputs": [
        {
          "output_type": "stream",
          "name": "stdout",
          "text": [
            "Overwriting requirements.txt\n"
          ]
        }
      ],
      "source": [
        "%%writefile requirements.txt\n",
        "chainlit==2.2.1"
      ]
    },
    {
      "cell_type": "code",
      "source": [
        "!pip install -r requirements.txt"
      ],
      "metadata": {
        "colab": {
          "base_uri": "https://localhost:8080/"
        },
        "collapsed": true,
        "id": "EAuE8kpdgdZd",
        "outputId": "57e06899-c0da-4c75-c45f-dcd6ce65ee89"
      },
      "execution_count": 2,
      "outputs": [
        {
          "output_type": "stream",
          "name": "stdout",
          "text": [
            "Requirement already satisfied: chainlit==2.2.1 in /usr/local/lib/python3.11/dist-packages (from -r requirements.txt (line 1)) (2.2.1)\n",
            "Requirement already satisfied: aiofiles<24.0.0,>=23.1.0 in /usr/local/lib/python3.11/dist-packages (from chainlit==2.2.1->-r requirements.txt (line 1)) (23.2.1)\n",
            "Requirement already satisfied: asyncer<0.0.8,>=0.0.7 in /usr/local/lib/python3.11/dist-packages (from chainlit==2.2.1->-r requirements.txt (line 1)) (0.0.7)\n",
            "Requirement already satisfied: click<9.0.0,>=8.1.3 in /usr/local/lib/python3.11/dist-packages (from chainlit==2.2.1->-r requirements.txt (line 1)) (8.1.8)\n",
            "Requirement already satisfied: dataclasses_json<0.7.0,>=0.6.7 in /usr/local/lib/python3.11/dist-packages (from chainlit==2.2.1->-r requirements.txt (line 1)) (0.6.7)\n",
            "Requirement already satisfied: fastapi<0.116,>=0.115.3 in /usr/local/lib/python3.11/dist-packages (from chainlit==2.2.1->-r requirements.txt (line 1)) (0.115.8)\n",
            "Requirement already satisfied: filetype<2.0.0,>=1.2.0 in /usr/local/lib/python3.11/dist-packages (from chainlit==2.2.1->-r requirements.txt (line 1)) (1.2.0)\n",
            "Requirement already satisfied: httpx>=0.23.0 in /usr/local/lib/python3.11/dist-packages (from chainlit==2.2.1->-r requirements.txt (line 1)) (0.28.1)\n",
            "Requirement already satisfied: lazify<0.5.0,>=0.4.0 in /usr/local/lib/python3.11/dist-packages (from chainlit==2.2.1->-r requirements.txt (line 1)) (0.4.0)\n",
            "Requirement already satisfied: literalai==0.1.103 in /usr/local/lib/python3.11/dist-packages (from chainlit==2.2.1->-r requirements.txt (line 1)) (0.1.103)\n",
            "Requirement already satisfied: nest-asyncio<2.0.0,>=1.6.0 in /usr/local/lib/python3.11/dist-packages (from chainlit==2.2.1->-r requirements.txt (line 1)) (1.6.0)\n",
            "Requirement already satisfied: packaging>=23.1 in /usr/local/lib/python3.11/dist-packages (from chainlit==2.2.1->-r requirements.txt (line 1)) (24.2)\n",
            "Requirement already satisfied: pydantic<3,>=1 in /usr/local/lib/python3.11/dist-packages (from chainlit==2.2.1->-r requirements.txt (line 1)) (2.10.6)\n",
            "Requirement already satisfied: pyjwt<3.0.0,>=2.8.0 in /usr/local/lib/python3.11/dist-packages (from chainlit==2.2.1->-r requirements.txt (line 1)) (2.10.1)\n",
            "Requirement already satisfied: python-dotenv<2.0.0,>=1.0.0 in /usr/local/lib/python3.11/dist-packages (from chainlit==2.2.1->-r requirements.txt (line 1)) (1.0.1)\n",
            "Requirement already satisfied: python-multipart<0.0.19,>=0.0.18 in /usr/local/lib/python3.11/dist-packages (from chainlit==2.2.1->-r requirements.txt (line 1)) (0.0.18)\n",
            "Requirement already satisfied: python-socketio<6.0.0,>=5.11.0 in /usr/local/lib/python3.11/dist-packages (from chainlit==2.2.1->-r requirements.txt (line 1)) (5.12.1)\n",
            "Requirement already satisfied: starlette<0.42.0,>=0.41.2 in /usr/local/lib/python3.11/dist-packages (from chainlit==2.2.1->-r requirements.txt (line 1)) (0.41.3)\n",
            "Requirement already satisfied: syncer<3.0.0,>=2.0.3 in /usr/local/lib/python3.11/dist-packages (from chainlit==2.2.1->-r requirements.txt (line 1)) (2.0.3)\n",
            "Requirement already satisfied: tomli<3.0.0,>=2.0.1 in /usr/local/lib/python3.11/dist-packages (from chainlit==2.2.1->-r requirements.txt (line 1)) (2.2.1)\n",
            "Requirement already satisfied: uptrace<2.0.0,>=1.22.0 in /usr/local/lib/python3.11/dist-packages (from chainlit==2.2.1->-r requirements.txt (line 1)) (1.29.0)\n",
            "Requirement already satisfied: uvicorn>=0.25.0 in /usr/local/lib/python3.11/dist-packages (from chainlit==2.2.1->-r requirements.txt (line 1)) (0.34.0)\n",
            "Requirement already satisfied: watchfiles<0.21.0,>=0.20.0 in /usr/local/lib/python3.11/dist-packages (from chainlit==2.2.1->-r requirements.txt (line 1)) (0.20.0)\n",
            "Requirement already satisfied: chevron>=0.14.0 in /usr/local/lib/python3.11/dist-packages (from literalai==0.1.103->chainlit==2.2.1->-r requirements.txt (line 1)) (0.14.0)\n",
            "Requirement already satisfied: anyio<5.0,>=3.4.0 in /usr/local/lib/python3.11/dist-packages (from asyncer<0.0.8,>=0.0.7->chainlit==2.2.1->-r requirements.txt (line 1)) (3.7.1)\n",
            "Requirement already satisfied: marshmallow<4.0.0,>=3.18.0 in /usr/local/lib/python3.11/dist-packages (from dataclasses_json<0.7.0,>=0.6.7->chainlit==2.2.1->-r requirements.txt (line 1)) (3.26.1)\n",
            "Requirement already satisfied: typing-inspect<1,>=0.4.0 in /usr/local/lib/python3.11/dist-packages (from dataclasses_json<0.7.0,>=0.6.7->chainlit==2.2.1->-r requirements.txt (line 1)) (0.9.0)\n",
            "Requirement already satisfied: typing-extensions>=4.8.0 in /usr/local/lib/python3.11/dist-packages (from fastapi<0.116,>=0.115.3->chainlit==2.2.1->-r requirements.txt (line 1)) (4.12.2)\n",
            "Requirement already satisfied: certifi in /usr/local/lib/python3.11/dist-packages (from httpx>=0.23.0->chainlit==2.2.1->-r requirements.txt (line 1)) (2025.1.31)\n",
            "Requirement already satisfied: httpcore==1.* in /usr/local/lib/python3.11/dist-packages (from httpx>=0.23.0->chainlit==2.2.1->-r requirements.txt (line 1)) (1.0.7)\n",
            "Requirement already satisfied: idna in /usr/local/lib/python3.11/dist-packages (from httpx>=0.23.0->chainlit==2.2.1->-r requirements.txt (line 1)) (3.10)\n",
            "Requirement already satisfied: h11<0.15,>=0.13 in /usr/local/lib/python3.11/dist-packages (from httpcore==1.*->httpx>=0.23.0->chainlit==2.2.1->-r requirements.txt (line 1)) (0.14.0)\n",
            "Requirement already satisfied: annotated-types>=0.6.0 in /usr/local/lib/python3.11/dist-packages (from pydantic<3,>=1->chainlit==2.2.1->-r requirements.txt (line 1)) (0.7.0)\n",
            "Requirement already satisfied: pydantic-core==2.27.2 in /usr/local/lib/python3.11/dist-packages (from pydantic<3,>=1->chainlit==2.2.1->-r requirements.txt (line 1)) (2.27.2)\n",
            "Requirement already satisfied: bidict>=0.21.0 in /usr/local/lib/python3.11/dist-packages (from python-socketio<6.0.0,>=5.11.0->chainlit==2.2.1->-r requirements.txt (line 1)) (0.23.1)\n",
            "Requirement already satisfied: python-engineio>=4.11.0 in /usr/local/lib/python3.11/dist-packages (from python-socketio<6.0.0,>=5.11.0->chainlit==2.2.1->-r requirements.txt (line 1)) (4.11.2)\n",
            "Requirement already satisfied: opentelemetry-api~=1.29.0 in /usr/local/lib/python3.11/dist-packages (from uptrace<2.0.0,>=1.22.0->chainlit==2.2.1->-r requirements.txt (line 1)) (1.29.0)\n",
            "Requirement already satisfied: opentelemetry-sdk~=1.29.0 in /usr/local/lib/python3.11/dist-packages (from uptrace<2.0.0,>=1.22.0->chainlit==2.2.1->-r requirements.txt (line 1)) (1.29.0)\n",
            "Requirement already satisfied: opentelemetry-exporter-otlp~=1.29.0 in /usr/local/lib/python3.11/dist-packages (from uptrace<2.0.0,>=1.22.0->chainlit==2.2.1->-r requirements.txt (line 1)) (1.29.0)\n",
            "Requirement already satisfied: opentelemetry-instrumentation~=0.50b0 in /usr/local/lib/python3.11/dist-packages (from uptrace<2.0.0,>=1.22.0->chainlit==2.2.1->-r requirements.txt (line 1)) (0.50b0)\n",
            "Requirement already satisfied: sniffio>=1.1 in /usr/local/lib/python3.11/dist-packages (from anyio<5.0,>=3.4.0->asyncer<0.0.8,>=0.0.7->chainlit==2.2.1->-r requirements.txt (line 1)) (1.3.1)\n",
            "Requirement already satisfied: deprecated>=1.2.6 in /usr/local/lib/python3.11/dist-packages (from opentelemetry-api~=1.29.0->uptrace<2.0.0,>=1.22.0->chainlit==2.2.1->-r requirements.txt (line 1)) (1.2.18)\n",
            "Requirement already satisfied: importlib-metadata<=8.5.0,>=6.0 in /usr/local/lib/python3.11/dist-packages (from opentelemetry-api~=1.29.0->uptrace<2.0.0,>=1.22.0->chainlit==2.2.1->-r requirements.txt (line 1)) (8.5.0)\n",
            "Requirement already satisfied: opentelemetry-exporter-otlp-proto-grpc==1.29.0 in /usr/local/lib/python3.11/dist-packages (from opentelemetry-exporter-otlp~=1.29.0->uptrace<2.0.0,>=1.22.0->chainlit==2.2.1->-r requirements.txt (line 1)) (1.29.0)\n",
            "Requirement already satisfied: opentelemetry-exporter-otlp-proto-http==1.29.0 in /usr/local/lib/python3.11/dist-packages (from opentelemetry-exporter-otlp~=1.29.0->uptrace<2.0.0,>=1.22.0->chainlit==2.2.1->-r requirements.txt (line 1)) (1.29.0)\n",
            "Requirement already satisfied: googleapis-common-protos~=1.52 in /usr/local/lib/python3.11/dist-packages (from opentelemetry-exporter-otlp-proto-grpc==1.29.0->opentelemetry-exporter-otlp~=1.29.0->uptrace<2.0.0,>=1.22.0->chainlit==2.2.1->-r requirements.txt (line 1)) (1.68.0)\n",
            "Requirement already satisfied: grpcio<2.0.0,>=1.63.2 in /usr/local/lib/python3.11/dist-packages (from opentelemetry-exporter-otlp-proto-grpc==1.29.0->opentelemetry-exporter-otlp~=1.29.0->uptrace<2.0.0,>=1.22.0->chainlit==2.2.1->-r requirements.txt (line 1)) (1.70.0)\n",
            "Requirement already satisfied: opentelemetry-exporter-otlp-proto-common==1.29.0 in /usr/local/lib/python3.11/dist-packages (from opentelemetry-exporter-otlp-proto-grpc==1.29.0->opentelemetry-exporter-otlp~=1.29.0->uptrace<2.0.0,>=1.22.0->chainlit==2.2.1->-r requirements.txt (line 1)) (1.29.0)\n",
            "Requirement already satisfied: opentelemetry-proto==1.29.0 in /usr/local/lib/python3.11/dist-packages (from opentelemetry-exporter-otlp-proto-grpc==1.29.0->opentelemetry-exporter-otlp~=1.29.0->uptrace<2.0.0,>=1.22.0->chainlit==2.2.1->-r requirements.txt (line 1)) (1.29.0)\n",
            "Requirement already satisfied: requests~=2.7 in /usr/local/lib/python3.11/dist-packages (from opentelemetry-exporter-otlp-proto-http==1.29.0->opentelemetry-exporter-otlp~=1.29.0->uptrace<2.0.0,>=1.22.0->chainlit==2.2.1->-r requirements.txt (line 1)) (2.32.3)\n",
            "Requirement already satisfied: protobuf<6.0,>=5.0 in /usr/local/lib/python3.11/dist-packages (from opentelemetry-proto==1.29.0->opentelemetry-exporter-otlp-proto-grpc==1.29.0->opentelemetry-exporter-otlp~=1.29.0->uptrace<2.0.0,>=1.22.0->chainlit==2.2.1->-r requirements.txt (line 1)) (5.29.3)\n",
            "Requirement already satisfied: opentelemetry-semantic-conventions==0.50b0 in /usr/local/lib/python3.11/dist-packages (from opentelemetry-instrumentation~=0.50b0->uptrace<2.0.0,>=1.22.0->chainlit==2.2.1->-r requirements.txt (line 1)) (0.50b0)\n",
            "Requirement already satisfied: wrapt<2.0.0,>=1.0.0 in /usr/local/lib/python3.11/dist-packages (from opentelemetry-instrumentation~=0.50b0->uptrace<2.0.0,>=1.22.0->chainlit==2.2.1->-r requirements.txt (line 1)) (1.17.2)\n",
            "Requirement already satisfied: simple-websocket>=0.10.0 in /usr/local/lib/python3.11/dist-packages (from python-engineio>=4.11.0->python-socketio<6.0.0,>=5.11.0->chainlit==2.2.1->-r requirements.txt (line 1)) (1.1.0)\n",
            "Requirement already satisfied: mypy-extensions>=0.3.0 in /usr/local/lib/python3.11/dist-packages (from typing-inspect<1,>=0.4.0->dataclasses_json<0.7.0,>=0.6.7->chainlit==2.2.1->-r requirements.txt (line 1)) (1.0.0)\n",
            "Requirement already satisfied: zipp>=3.20 in /usr/local/lib/python3.11/dist-packages (from importlib-metadata<=8.5.0,>=6.0->opentelemetry-api~=1.29.0->uptrace<2.0.0,>=1.22.0->chainlit==2.2.1->-r requirements.txt (line 1)) (3.21.0)\n",
            "Requirement already satisfied: wsproto in /usr/local/lib/python3.11/dist-packages (from simple-websocket>=0.10.0->python-engineio>=4.11.0->python-socketio<6.0.0,>=5.11.0->chainlit==2.2.1->-r requirements.txt (line 1)) (1.2.0)\n",
            "Requirement already satisfied: charset-normalizer<4,>=2 in /usr/local/lib/python3.11/dist-packages (from requests~=2.7->opentelemetry-exporter-otlp-proto-http==1.29.0->opentelemetry-exporter-otlp~=1.29.0->uptrace<2.0.0,>=1.22.0->chainlit==2.2.1->-r requirements.txt (line 1)) (3.4.1)\n",
            "Requirement already satisfied: urllib3<3,>=1.21.1 in /usr/local/lib/python3.11/dist-packages (from requests~=2.7->opentelemetry-exporter-otlp-proto-http==1.29.0->opentelemetry-exporter-otlp~=1.29.0->uptrace<2.0.0,>=1.22.0->chainlit==2.2.1->-r requirements.txt (line 1)) (2.3.0)\n"
          ]
        }
      ]
    },
    {
      "cell_type": "code",
      "source": [
        "!npm install -g localtunnel"
      ],
      "metadata": {
        "colab": {
          "base_uri": "https://localhost:8080/"
        },
        "id": "dYPgmX33g4OA",
        "outputId": "a281526b-c287-4cab-c54c-a38f6b0b201d"
      },
      "execution_count": 3,
      "outputs": [
        {
          "output_type": "stream",
          "name": "stdout",
          "text": [
            "\u001b[1G\u001b[0K⠙\u001b[1G\u001b[0K⠹\u001b[1G\u001b[0K⠸\u001b[1G\u001b[0K⠼\u001b[1G\u001b[0K⠴\u001b[1G\u001b[0K⠦\u001b[1G\u001b[0K⠧\u001b[1G\u001b[0K⠇\u001b[1G\u001b[0K⠏\u001b[1G\u001b[0K⠋\u001b[1G\u001b[0K⠙\u001b[1G\u001b[0K⠹\u001b[1G\u001b[0K⠸\u001b[1G\u001b[0K⠼\u001b[1G\u001b[0K⠴\u001b[1G\u001b[0K⠦\u001b[1G\u001b[0K⠧\u001b[1G\u001b[0K⠇\u001b[1G\u001b[0K⠏\u001b[1G\u001b[0K⠋\u001b[1G\u001b[0K⠙\u001b[1G\u001b[0K⠹\u001b[1G\u001b[0K\n",
            "changed 22 packages in 3s\n",
            "\u001b[1G\u001b[0K⠹\u001b[1G\u001b[0K\n",
            "\u001b[1G\u001b[0K⠹\u001b[1G\u001b[0K3 packages are looking for funding\n",
            "\u001b[1G\u001b[0K⠹\u001b[1G\u001b[0K  run `npm fund` for details\n",
            "\u001b[1G\u001b[0K⠹\u001b[1G\u001b[0K"
          ]
        }
      ]
    },
    {
      "cell_type": "code",
      "source": [
        "%%writefile app.py\n",
        "import chainlit as cl\n",
        "\n",
        "@cl.on_message\n",
        "async def on_message(message: cl.Message):\n",
        "    await cl.Message(content=message.content).send()"
      ],
      "metadata": {
        "colab": {
          "base_uri": "https://localhost:8080/"
        },
        "id": "IhXBvMrhgqH1",
        "outputId": "6cf2f31c-6772-457e-e640-c00f59fa1589"
      },
      "execution_count": 4,
      "outputs": [
        {
          "output_type": "stream",
          "name": "stdout",
          "text": [
            "Overwriting app.py\n"
          ]
        }
      ]
    },
    {
      "cell_type": "code",
      "source": [
        "import subprocess\n",
        "\n",
        "chainlit_process = None\n",
        "if chainlit_process:\n",
        "    chainlit_process.kill()\n",
        "tunnel_process = None\n",
        "if tunnel_process:\n",
        "    tunnel_process.kill()\n",
        "output_file = \"output.log\"\n",
        "out_log = open(output_file, \"wb\")\n",
        "chainlit_process = subprocess.Popen(\n",
        "    [\"chainlit\", \"run\", \"app.py\", \"--host\", \"0.0.0.0\", \"--port\", \"8000\"],\n",
        "    stdout=out_log,\n",
        "    stderr=subprocess.STDOUT,\n",
        ")\n",
        "tunnel_process = subprocess.Popen(\n",
        "    [\"lt\", \"--port\", \"8000\"], stdout=out_log, stderr=subprocess.STDOUT\n",
        ")\n",
        "!sleep 5s # Allow for some time to properly boot"
      ],
      "metadata": {
        "id": "qKzR0dFRg_tZ"
      },
      "execution_count": 5,
      "outputs": []
    },
    {
      "cell_type": "code",
      "source": [
        "assert chainlit_process.poll() is None\n",
        "assert tunnel_process.poll() is None\n",
        "!cat $output_file\n",
        "!echo \"Tunnel Password: $(curl -s https://loca.lt/mytunnelpassword)\""
      ],
      "metadata": {
        "colab": {
          "base_uri": "https://localhost:8080/"
        },
        "id": "Fpu71gjBkcHm",
        "outputId": "b822c63f-e63b-4304-f955-eabdf05c13d3"
      },
      "execution_count": 10,
      "outputs": [
        {
          "output_type": "stream",
          "name": "stdout",
          "text": [
            "your url is: https://fruity-beans-drum.loca.lt\n",
            "2025-02-27 13:49:52 - Your app is available at http://0.0.0.0:8000\n",
            "Tunnel Password: 34.169.173.84\n"
          ]
        }
      ]
    }
  ]
}