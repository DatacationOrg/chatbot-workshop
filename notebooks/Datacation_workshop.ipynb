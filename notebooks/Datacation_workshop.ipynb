{
 "cells": [
  {
   "cell_type": "markdown",
   "metadata": {
    "colab_type": "text",
    "id": "view-in-github"
   },
   "source": [
    "<a href=\"https://colab.research.google.com/github/DatacationOrg/chatbot-workshop/blob/main/Datacation_workshop.ipynb\" target=\"_parent\"><img src=\"https://colab.research.google.com/assets/colab-badge.svg\" alt=\"Open In Colab\"/></a>\n"
   ]
  },
  {
   "cell_type": "code",
   "execution_count": null,
   "metadata": {},
   "outputs": [],
   "source": [
    "%%shell\n",
    "rm -rf .git/\n",
    "git config --global init.defaultBranch main\n",
    "git init\n",
    "git remote add -f origin https://github.com/DatacationOrg/chatbot-workshop.git\n",
    "git config core.sparseCheckout true\n",
    "echo \"chatbot_workshop/\" >> .git/info/sparse-checkout\n",
    "echo \"pyproject.toml\" >> .git/info/sparse-checkout\n",
    "echo \"README.md\" >> .git/info/sparse-checkout\n",
    "git fetch\n",
    "git reset --hard origin/main\n",
    "# Install localtunnel\n",
    "npm i -g localtunnel"
   ]
  },
  {
   "cell_type": "code",
   "execution_count": null,
   "metadata": {
    "id": "EAuE8kpdgdZd"
   },
   "outputs": [],
   "source": [
    "%pip install -e ."
   ]
  },
  {
   "cell_type": "code",
   "execution_count": null,
   "metadata": {
    "id": "dYPgmX33g4OA"
   },
   "outputs": [],
   "source": [
    "!npm install -g localtunnel"
   ]
  },
  {
   "cell_type": "code",
   "execution_count": null,
   "metadata": {
    "id": "IhXBvMrhgqH1"
   },
   "outputs": [],
   "source": [
    "%%writefile app.py\n",
    "import os\n",
    "\n",
    "import chainlit as cl\n",
    "from langchain_google_genai import ChatGoogleGenerativeAI\n",
    "\n",
    "llm = ChatGoogleGenerativeAI(model=\"gemini-2.0-flash-exp\")\n",
    "\n",
    "\n",
    "@cl.on_message\n",
    "async def on_message(message: cl.Message):\n",
    "    msg = cl.Message(content=\"\")\n",
    "    async for chunk in llm.astream(\n",
    "        message.content, config=dict(callbacks=[cl.LangchainCallbackHandler()])\n",
    "    ):\n",
    "        await msg.stream_token(chunk.content)\n",
    "    await msg.send()\n"
   ]
  },
  {
   "cell_type": "code",
   "execution_count": null,
   "metadata": {
    "id": "qKzR0dFRg_tZ"
   },
   "outputs": [],
   "source": [
    "import time\n",
    "from chatbot_workshop.processes import restart, assert_all_running, show_logs\n",
    "\n",
    "\n",
    "restart(\"chainlit\")\n",
    "restart(\"tunnel\")\n",
    "time.sleep(3)  # Allow for some time to properly startup\n",
    "assert_all_running()\n",
    "\n",
    "\n",
    "show_logs(\"tunnel\")\n",
    "print(\"Tunnel password: \")\n",
    "!curl -s https://loca.lt/mytunnelpassword"
   ]
  }
 ],
 "metadata": {
  "colab": {
   "include_colab_link": true,
   "provenance": []
  },
  "kernelspec": {
   "display_name": ".venv",
   "language": "python",
   "name": "python3"
  },
  "language_info": {
   "codemirror_mode": {
    "name": "ipython",
    "version": 3
   },
   "file_extension": ".py",
   "mimetype": "text/x-python",
   "name": "python",
   "nbconvert_exporter": "python",
   "pygments_lexer": "ipython3",
   "version": "3.13.1"
  }
 },
 "nbformat": 4,
 "nbformat_minor": 4
}
